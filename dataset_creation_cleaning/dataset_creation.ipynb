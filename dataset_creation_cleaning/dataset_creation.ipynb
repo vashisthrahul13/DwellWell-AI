{
 "cells": [
  {
   "cell_type": "code",
   "execution_count": 75,
   "id": "1b5c4e30",
   "metadata": {},
   "outputs": [],
   "source": [
    "import pandas as pd\n",
    "import numpy as np\n",
    "import glob\n",
    "import os"
   ]
  },
  {
   "cell_type": "code",
   "execution_count": 76,
   "id": "51374bf6",
   "metadata": {},
   "outputs": [],
   "source": [
    "# Path to the folder containing CSV files\n",
    "folder_path = 'all_csv'\n",
    "\n",
    "# Get all CSV file paths in the folder\n",
    "csv_files = glob.glob(os.path.join(folder_path, '*.csv'))\n",
    "\n",
    "# Read all CSVs into a list of DataFrames\n",
    "dfs = [pd.read_csv(file) for file in csv_files]\n",
    "\n",
    "# Combine all into one DataFrame (optional)\n",
    "df = pd.concat(dfs, ignore_index=True)\n"
   ]
  },
  {
   "cell_type": "code",
   "execution_count": 77,
   "id": "a60fd8e5",
   "metadata": {},
   "outputs": [],
   "source": [
    "df.drop_duplicates(inplace=True)"
   ]
  },
  {
   "cell_type": "code",
   "execution_count": 78,
   "id": "48bdf0ab",
   "metadata": {},
   "outputs": [
    {
     "data": {
      "text/plain": [
       "(6939, 14)"
      ]
     },
     "execution_count": 78,
     "metadata": {},
     "output_type": "execute_result"
    }
   ],
   "source": [
    "df.shape"
   ]
  },
  {
   "cell_type": "code",
   "execution_count": 79,
   "id": "d8df221d",
   "metadata": {},
   "outputs": [
    {
     "name": "stdout",
     "output_type": "stream",
     "text": [
      "<class 'pandas.core.frame.DataFrame'>\n",
      "Index: 6939 entries, 0 to 7652\n",
      "Data columns (total 14 columns):\n",
      " #   Column            Non-Null Count  Dtype  \n",
      "---  ------            --------------  -----  \n",
      " 0   link              6939 non-null   object \n",
      " 1   address           5605 non-null   object \n",
      " 2   price             5605 non-null   object \n",
      " 3   super_area        5605 non-null   float64\n",
      " 4   bedrooms          5605 non-null   object \n",
      " 5   bathroom          5605 non-null   object \n",
      " 6   balcony           5605 non-null   object \n",
      " 7   additional_rooms  3951 non-null   object \n",
      " 8   age_possession    5605 non-null   object \n",
      " 9   floor             5605 non-null   object \n",
      " 10  furnishing_type   5342 non-null   object \n",
      " 11  facing            4974 non-null   object \n",
      " 12  num_parking       5151 non-null   object \n",
      " 13  features          5569 non-null   object \n",
      "dtypes: float64(1), object(13)\n",
      "memory usage: 813.2+ KB\n"
     ]
    }
   ],
   "source": [
    "df.info(show_counts=True)"
   ]
  },
  {
   "cell_type": "code",
   "execution_count": 80,
   "id": "3f181f27",
   "metadata": {},
   "outputs": [],
   "source": [
    "df.drop(index = df[df['address'].isna()].index , inplace=True)"
   ]
  },
  {
   "cell_type": "code",
   "execution_count": 81,
   "id": "a3476cf9",
   "metadata": {},
   "outputs": [],
   "source": [
    "df.to_csv('dataset_raw.csv')"
   ]
  },
  {
   "cell_type": "markdown",
   "id": "ab7ca8d8",
   "metadata": {},
   "source": [
    "# checking remaining links"
   ]
  },
  {
   "cell_type": "code",
   "execution_count": 52,
   "id": "5bb80254",
   "metadata": {},
   "outputs": [],
   "source": [
    "all_links = []\n",
    "with open('webscrape_links_v2.txt', 'r') as file:\n",
    "    for line in file:\n",
    "        all_links.append(line.strip())\n",
    "\n",
    "extracted_links = df['link'].to_list()"
   ]
  },
  {
   "cell_type": "code",
   "execution_count": 54,
   "id": "29e204d4",
   "metadata": {},
   "outputs": [
    {
     "data": {
      "text/plain": [
       "5291"
      ]
     },
     "execution_count": 54,
     "metadata": {},
     "output_type": "execute_result"
    }
   ],
   "source": [
    "len(extracted_links)"
   ]
  },
  {
   "cell_type": "code",
   "execution_count": 60,
   "id": "a666d56f",
   "metadata": {},
   "outputs": [],
   "source": [
    "remaining_links = np.setdiff1d(all_links,extracted_links).tolist()\n",
    "\n",
    "with open ('remaining_links.txt' , 'w') as f:\n",
    "    f.write(\"\\n\".join(remaining_links))\n"
   ]
  }
 ],
 "metadata": {
  "kernelspec": {
   "display_name": "Python 3",
   "language": "python",
   "name": "python3"
  },
  "language_info": {
   "codemirror_mode": {
    "name": "ipython",
    "version": 3
   },
   "file_extension": ".py",
   "mimetype": "text/x-python",
   "name": "python",
   "nbconvert_exporter": "python",
   "pygments_lexer": "ipython3",
   "version": "3.12.5"
  }
 },
 "nbformat": 4,
 "nbformat_minor": 5
}
